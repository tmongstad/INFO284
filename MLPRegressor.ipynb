{
 "cells": [
  {
   "cell_type": "code",
   "execution_count": 258,
   "metadata": {},
   "outputs": [],
   "source": [
    "import numpy as np\n",
    "import pandas as pd\n",
    "# import sklearn.datasets as data"
   ]
  },
  {
   "cell_type": "code",
   "execution_count": 259,
   "metadata": {},
   "outputs": [
    {
     "name": "stdout",
     "output_type": "stream",
     "text": [
      "(305434, 45)\n"
     ]
    }
   ],
   "source": [
    "df = pd.read_csv(\"GroupExam2024_data_and_documentation/elektronisk-rapportering-ers-2018-fangstmelding-dca-simple.csv\", sep=';', decimal=',')\n",
    "df.head()\n",
    "print(df.shape)\n"
   ]
  },
  {
   "cell_type": "markdown",
   "metadata": {},
   "source": [
    "Dropped Meldingstidspunkt, Starttidspunkt, Art - FDIR and strings from dataset due to how the data scaling generaly dislikes strings!\n",
    "After dropping stings the scores went from -11% to 20%! (Both test and training) \n",
    "\n",
    "Maybe use one-hot encoding to include it anyway?"
   ]
  },
  {
   "cell_type": "code",
   "execution_count": 260,
   "metadata": {},
   "outputs": [
    {
     "data": {
      "text/plain": [
       "Bruttotonnasje Gruppert\n",
       "6     992\n",
       "3     950\n",
       "2     618\n",
       "21    465\n",
       "4     433\n",
       "35    312\n",
       "14    305\n",
       "32    261\n",
       "5     257\n",
       "25    233\n",
       "1     210\n",
       "12    191\n",
       "16    186\n",
       "15    181\n",
       "40    164\n",
       "38     78\n",
       "26     50\n",
       "7      49\n",
       "23     45\n",
       "19     44\n",
       "45     17\n",
       "17      8\n",
       "42      5\n",
       "44      0\n",
       "46      0\n",
       "41      0\n",
       "33      0\n",
       "37      0\n",
       "36      0\n",
       "43      0\n",
       "34      0\n",
       "39      0\n",
       "24      0\n",
       "31      0\n",
       "30      0\n",
       "29      0\n",
       "28      0\n",
       "27      0\n",
       "22      0\n",
       "20      0\n",
       "18      0\n",
       "13      0\n",
       "11      0\n",
       "10      0\n",
       "9       0\n",
       "8       0\n",
       "47      0\n",
       "Name: count, dtype: int64"
      ]
     },
     "execution_count": 260,
     "metadata": {},
     "output_type": "execute_result"
    }
   ],
   "source": [
    "#Sile ut informasjon:\n",
    "df = df[(df['Art - FDIR (kode)'] == 1022) | (df['Art - FDIR (kode)'] == 1027)] # Fiske som fanger hyse eller torsk. \"751 - lodde, 1022 Torsk\"\n",
    "area = [7, 8, 28, 30, 40]\n",
    "df = df[(df['Redskap FDIR (kode)'] == 51) & (df['Hovedområde start (kode)'].isin(area))] # Fiske med bunntrål - 51, snurrevad - 11\n",
    "df['Bruttotonnasje Kombinert'] = df['Bruttotonnasje 1969'].fillna(df['Bruttotonnasje annen']) # Slår sammen kolonnene.\n",
    "# Dropper unødvendig informasjon. Tabellen inneholder masse duplikater. som egen kolonne for navn og for kode\n",
    "# Forskjellige klassifiseringsmåter. Holder på FDIR sine.\n",
    "df.drop(columns = ['Meldingsdato', \n",
    "                   'Meldingsklokkeslett', \n",
    "                   'Startdato',  \n",
    "                   'Hovedområde start', \n",
    "                   'Lokasjon start (kode)', \n",
    "                   'Stoppdato', \n",
    "                   'Stoppklokkeslett', \n",
    "                   'Fangstår', \n",
    "                   'Hovedområde stopp (kode)', \n",
    "                   'Hovedområde stopp', \n",
    "                   'Lokasjon stopp (kode)', \n",
    "                   'Redskap FAO (kode)', \n",
    "                   'Redskap FAO', \n",
    "                   'Redskap FDIR', \n",
    "                   'Hovedart FAO (kode)', \n",
    "                   'Hovedart FAO', \n",
    "                   'Art FAO (kode)',\n",
    "                   'Art FAO',\n",
    "                   'Art - gruppe', \n",
    "                   'Lengdegruppe', \n",
    "                   'Bredde', \n",
    "                   'Fartøylengde',\n",
    "                   'Bruttotonnasje 1969',\n",
    "                   'Bruttotonnasje annen',\n",
    "\n",
    "                    #Columns removed for training of MLPRegressor neural network\n",
    "                   'Meldingstidspunkt',\n",
    "                   'Starttidspunkt',\n",
    "                   'Startklokkeslett',\n",
    "                   'Stopptidspunkt',\n",
    "                   'Art - FDIR',\n",
    "    ], inplace=True)\n",
    "\n",
    "# Gruppere bruttotonnasje:\n",
    "bins = [x for x in range(0, 4800, 100)] # Definerer gruppene\n",
    "labels = range(1, len(bins))  # nummererer gruppene.\n",
    "# Categorize 'Bruttotonnasje Kombinert' into the defined bins\n",
    "df['Bruttotonnasje Gruppert'] = pd.cut(df['Bruttotonnasje Kombinert'], bins=bins, labels=labels)\n",
    "# Teller grupperingene\n",
    "df['Bruttotonnasje Gruppert'].value_counts()"
   ]
  },
  {
   "cell_type": "code",
   "execution_count": 261,
   "metadata": {},
   "outputs": [
    {
     "data": {
      "text/html": [
       "<div>\n",
       "<style scoped>\n",
       "    .dataframe tbody tr th:only-of-type {\n",
       "        vertical-align: middle;\n",
       "    }\n",
       "\n",
       "    .dataframe tbody tr th {\n",
       "        vertical-align: top;\n",
       "    }\n",
       "\n",
       "    .dataframe thead th {\n",
       "        text-align: right;\n",
       "    }\n",
       "</style>\n",
       "<table border=\"1\" class=\"dataframe\">\n",
       "  <thead>\n",
       "    <tr style=\"text-align: right;\">\n",
       "      <th></th>\n",
       "      <th>Melding ID</th>\n",
       "      <th>Startposisjon bredde</th>\n",
       "      <th>Startposisjon lengde</th>\n",
       "      <th>Hovedområde start (kode)</th>\n",
       "      <th>Havdybde start</th>\n",
       "      <th>Varighet</th>\n",
       "      <th>Stopposisjon bredde</th>\n",
       "      <th>Stopposisjon lengde</th>\n",
       "      <th>Havdybde stopp</th>\n",
       "      <th>Trekkavstand</th>\n",
       "      <th>Redskap FDIR (kode)</th>\n",
       "      <th>Hovedart - FDIR (kode)</th>\n",
       "      <th>Art - FDIR (kode)</th>\n",
       "      <th>Art - gruppe (kode)</th>\n",
       "      <th>Rundvekt</th>\n",
       "      <th>Lengdegruppe (kode)</th>\n",
       "      <th>Bruttotonnasje Kombinert</th>\n",
       "      <th>Bruttotonnasje Gruppert</th>\n",
       "    </tr>\n",
       "  </thead>\n",
       "  <tbody>\n",
       "    <tr>\n",
       "      <th>353</th>\n",
       "      <td>1497555</td>\n",
       "      <td>57.588</td>\n",
       "      <td>6.834</td>\n",
       "      <td>8.0</td>\n",
       "      <td>-229</td>\n",
       "      <td>692</td>\n",
       "      <td>57.534</td>\n",
       "      <td>7.466</td>\n",
       "      <td>-237</td>\n",
       "      <td>38303.0</td>\n",
       "      <td>51.0</td>\n",
       "      <td>2524.0</td>\n",
       "      <td>1022.0</td>\n",
       "      <td>201.0</td>\n",
       "      <td>114.0</td>\n",
       "      <td>4.0</td>\n",
       "      <td>267.0</td>\n",
       "      <td>3</td>\n",
       "    </tr>\n",
       "    <tr>\n",
       "      <th>635</th>\n",
       "      <td>1497856</td>\n",
       "      <td>61.221</td>\n",
       "      <td>2.181</td>\n",
       "      <td>28.0</td>\n",
       "      <td>-167</td>\n",
       "      <td>330</td>\n",
       "      <td>61.481</td>\n",
       "      <td>1.753</td>\n",
       "      <td>-193</td>\n",
       "      <td>36931.0</td>\n",
       "      <td>51.0</td>\n",
       "      <td>1032.0</td>\n",
       "      <td>1022.0</td>\n",
       "      <td>201.0</td>\n",
       "      <td>100.0</td>\n",
       "      <td>5.0</td>\n",
       "      <td>2053.0</td>\n",
       "      <td>21</td>\n",
       "    </tr>\n",
       "    <tr>\n",
       "      <th>1000</th>\n",
       "      <td>1498229</td>\n",
       "      <td>58.318</td>\n",
       "      <td>6.210</td>\n",
       "      <td>8.0</td>\n",
       "      <td>1</td>\n",
       "      <td>71</td>\n",
       "      <td>58.328</td>\n",
       "      <td>6.200</td>\n",
       "      <td>41</td>\n",
       "      <td>1259.0</td>\n",
       "      <td>51.0</td>\n",
       "      <td>2524.0</td>\n",
       "      <td>1022.0</td>\n",
       "      <td>201.0</td>\n",
       "      <td>10.0</td>\n",
       "      <td>3.0</td>\n",
       "      <td>79.0</td>\n",
       "      <td>1</td>\n",
       "    </tr>\n",
       "    <tr>\n",
       "      <th>1001</th>\n",
       "      <td>1498229</td>\n",
       "      <td>58.318</td>\n",
       "      <td>6.210</td>\n",
       "      <td>8.0</td>\n",
       "      <td>1</td>\n",
       "      <td>71</td>\n",
       "      <td>58.328</td>\n",
       "      <td>6.200</td>\n",
       "      <td>41</td>\n",
       "      <td>1259.0</td>\n",
       "      <td>51.0</td>\n",
       "      <td>2524.0</td>\n",
       "      <td>1027.0</td>\n",
       "      <td>202.0</td>\n",
       "      <td>8.0</td>\n",
       "      <td>3.0</td>\n",
       "      <td>79.0</td>\n",
       "      <td>1</td>\n",
       "    </tr>\n",
       "    <tr>\n",
       "      <th>1149</th>\n",
       "      <td>1498376</td>\n",
       "      <td>63.411</td>\n",
       "      <td>5.656</td>\n",
       "      <td>7.0</td>\n",
       "      <td>-356</td>\n",
       "      <td>302</td>\n",
       "      <td>63.346</td>\n",
       "      <td>5.699</td>\n",
       "      <td>-224</td>\n",
       "      <td>7558.0</td>\n",
       "      <td>51.0</td>\n",
       "      <td>1032.0</td>\n",
       "      <td>1022.0</td>\n",
       "      <td>201.0</td>\n",
       "      <td>72.0</td>\n",
       "      <td>5.0</td>\n",
       "      <td>536.0</td>\n",
       "      <td>6</td>\n",
       "    </tr>\n",
       "  </tbody>\n",
       "</table>\n",
       "</div>"
      ],
      "text/plain": [
       "      Melding ID  Startposisjon bredde  Startposisjon lengde  \\\n",
       "353      1497555                57.588                 6.834   \n",
       "635      1497856                61.221                 2.181   \n",
       "1000     1498229                58.318                 6.210   \n",
       "1001     1498229                58.318                 6.210   \n",
       "1149     1498376                63.411                 5.656   \n",
       "\n",
       "      Hovedområde start (kode)  Havdybde start  Varighet  Stopposisjon bredde  \\\n",
       "353                        8.0            -229       692               57.534   \n",
       "635                       28.0            -167       330               61.481   \n",
       "1000                       8.0               1        71               58.328   \n",
       "1001                       8.0               1        71               58.328   \n",
       "1149                       7.0            -356       302               63.346   \n",
       "\n",
       "      Stopposisjon lengde  Havdybde stopp  Trekkavstand  Redskap FDIR (kode)  \\\n",
       "353                 7.466            -237       38303.0                 51.0   \n",
       "635                 1.753            -193       36931.0                 51.0   \n",
       "1000                6.200              41        1259.0                 51.0   \n",
       "1001                6.200              41        1259.0                 51.0   \n",
       "1149                5.699            -224        7558.0                 51.0   \n",
       "\n",
       "      Hovedart - FDIR (kode)  Art - FDIR (kode)  Art - gruppe (kode)  \\\n",
       "353                   2524.0             1022.0                201.0   \n",
       "635                   1032.0             1022.0                201.0   \n",
       "1000                  2524.0             1022.0                201.0   \n",
       "1001                  2524.0             1027.0                202.0   \n",
       "1149                  1032.0             1022.0                201.0   \n",
       "\n",
       "      Rundvekt  Lengdegruppe (kode)  Bruttotonnasje Kombinert  \\\n",
       "353      114.0                  4.0                     267.0   \n",
       "635      100.0                  5.0                    2053.0   \n",
       "1000      10.0                  3.0                      79.0   \n",
       "1001       8.0                  3.0                      79.0   \n",
       "1149      72.0                  5.0                     536.0   \n",
       "\n",
       "     Bruttotonnasje Gruppert  \n",
       "353                        3  \n",
       "635                       21  \n",
       "1000                       1  \n",
       "1001                       1  \n",
       "1149                       6  "
      ]
     },
     "execution_count": 261,
     "metadata": {},
     "output_type": "execute_result"
    }
   ],
   "source": [
    "df.head()"
   ]
  },
  {
   "cell_type": "code",
   "execution_count": 262,
   "metadata": {},
   "outputs": [
    {
     "name": "stdout",
     "output_type": "stream",
     "text": [
      "(6054, 18)\n"
     ]
    }
   ],
   "source": [
    "print(df.shape)\n",
    "df.head()\n",
    "X = df.drop('Rundvekt', axis=1)\n",
    "y = df['Rundvekt']\n"
   ]
  },
  {
   "cell_type": "code",
   "execution_count": 263,
   "metadata": {},
   "outputs": [],
   "source": [
    "# from sklearn.datasets import make_regression\n",
    "# x = df.drop('Rundvekt', axis=1)\n",
    "# y = df['Rundvekt']\n",
    "# X, y = make_regression(n_samples=200, random_state=1)\n",
    "# # print(X,y)"
   ]
  },
  {
   "cell_type": "code",
   "execution_count": 264,
   "metadata": {},
   "outputs": [],
   "source": [
    "from sklearn.preprocessing import MinMaxScaler\n",
    "scaler = MinMaxScaler()\n",
    "scaler.fit(X)\n",
    "X = scaler.transform(X)\n",
    "# print(X)"
   ]
  },
  {
   "cell_type": "code",
   "execution_count": 265,
   "metadata": {},
   "outputs": [],
   "source": [
    "# X.shape = (6054, 23)\n",
    "# y.shape = (6054,)"
   ]
  },
  {
   "cell_type": "code",
   "execution_count": 266,
   "metadata": {},
   "outputs": [],
   "source": [
    "from sklearn.model_selection import train_test_split\n",
    "# X_train, X_test, y_train, y_test = train_test_split(X,y, random_state= 1235)\n",
    "X_train, X_test, y_train, y_test = train_test_split(X, y, test_size = 0.2)"
   ]
  },
  {
   "cell_type": "code",
   "execution_count": 267,
   "metadata": {},
   "outputs": [],
   "source": [
    "from sklearn.preprocessing import StandardScaler\n",
    "sc=StandardScaler()\n",
    "\n",
    "scaler = sc.fit(X_train)\n",
    "X_train_scaled = scaler.transform(X_train)\n",
    "X_testscaled = scaler.transform(X_test)"
   ]
  },
  {
   "cell_type": "code",
   "execution_count": 268,
   "metadata": {},
   "outputs": [],
   "source": [
    "from sklearn.neural_network import MLPRegressor\n",
    "nn = MLPRegressor(hidden_layer_sizes = [20,10], \n",
    "                  activation = 'logistic', alpha = 0.1, \n",
    "                  max_iter = 1000, #How many iterations of regression you do. higher = bigger chance of overtraining\n",
    "                  solver = 'adam', \n",
    "                  verbose = False)\n",
    "#activation logistic tanh relu identity\n",
    "#solver adam lbfgs sgd "
   ]
  },
  {
   "cell_type": "code",
   "execution_count": 269,
   "metadata": {},
   "outputs": [
    {
     "name": "stdout",
     "output_type": "stream",
     "text": [
      "Neural network, MLPRegressor\n",
      "Test score 0.02857554746080171\n",
      "Train  score 0.04388748121910424\n"
     ]
    },
    {
     "name": "stderr",
     "output_type": "stream",
     "text": [
      "c:\\Mashinelearning seminaroppgave\\INFO284\\.venv\\Lib\\site-packages\\sklearn\\neural_network\\_multilayer_perceptron.py:691: ConvergenceWarning: Stochastic Optimizer: Maximum iterations (1000) reached and the optimization hasn't converged yet.\n",
      "  warnings.warn(\n"
     ]
    }
   ],
   "source": [
    "nn.fit(X_train,y_train)\n",
    "print(\"Neural network, MLPRegressor\")\n",
    "print(\"Test score\",  nn.score(X_test, y_test))\n",
    "print(\"Train  score\", nn.score(X_train, y_train))"
   ]
  },
  {
   "cell_type": "markdown",
   "metadata": {},
   "source": [
    "V2, removed linear regression thingy\n",
    "Max_iter = 5000\n",
    "Test score 0.18474766635857465\n",
    "Train  score 0.26563262873718185\n",
    "\n",
    "Without removed collumns\n",
    "Test score 0.03306077219837722\n",
    "Train  score 0.07260871122128132\n",
    "\n",
    "with removed collumnds (linear regression collumns)\n",
    "Test score 0.034291607331412455\n",
    "Train  score 0.07651381759634102"
   ]
  }
 ],
 "metadata": {
  "kernelspec": {
   "display_name": ".venv",
   "language": "python",
   "name": "python3"
  },
  "language_info": {
   "codemirror_mode": {
    "name": "ipython",
    "version": 3
   },
   "file_extension": ".py",
   "mimetype": "text/x-python",
   "name": "python",
   "nbconvert_exporter": "python",
   "pygments_lexer": "ipython3",
   "version": "3.11.8"
  }
 },
 "nbformat": 4,
 "nbformat_minor": 2
}
