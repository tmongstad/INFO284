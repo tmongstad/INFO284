{
 "cells": [
  {
   "cell_type": "code",
   "execution_count": 841,
   "metadata": {},
   "outputs": [],
   "source": [
    "import pandas as pd\n",
    "import numpy as np\n",
    "import sklearn\n",
    "from sklearn import linear_model\n",
    "\n",
    "df = pd.read_csv(\"GroupExam2024_data_and_documentation/elektronisk-rapportering-ers-2018-fangstmelding-dca-simple.csv\", sep=';', decimal=',')\n"
   ]
  },
  {
   "cell_type": "code",
   "execution_count": 842,
   "metadata": {},
   "outputs": [
    {
     "name": "stdout",
     "output_type": "stream",
     "text": [
      "Hovedart FAO\n",
      "Torsk                            86215\n",
      "Sei                              66311\n",
      "Dypvannsreke                     36977\n",
      "Hyse                             28176\n",
      "Lange                            13387\n",
      "Øyepål                            7796\n",
      "Brosme                            7168\n",
      "Sild                              6846\n",
      "Kolmule                           6166\n",
      "Snøkrabbe                         6070\n",
      "Snabeluer                         6065\n",
      "Lysing                            5964\n",
      "Blåkveite                         4986\n",
      "Breiflabb                         2552\n",
      "Tobis og annen sil                2064\n",
      "Lodde                             1378\n",
      "Hestmakrell                       1224\n",
      "Makrell                           1146\n",
      "Vassild                           1120\n",
      "Flekksteinbit                      896\n",
      "Uer (vanlig)                       785\n",
      "Lyr                                780\n",
      "Stortare                           683\n",
      "Rødspette                          615\n",
      "Antarktisk krill                   552\n",
      "Brisling                           541\n",
      "Taskekrabbe                        532\n",
      "Strømsild                          314\n",
      "Strømsild/Vassild                  298\n",
      "Vågehval                           296\n",
      "Hvitting                           294\n",
      "Reke av  Pandalusslekten           221\n",
      "Raudåte                            207\n",
      "Reke av  Palaemonidaefamilien      205\n",
      "Gråsteinbit                        203\n",
      "Pink cusk-eel*                     196\n",
      "Blåsteinbit                        163\n",
      "Pigghå                             138\n",
      "Annen skate og rokke               129\n",
      "Steinbiter                         112\n",
      "Annen marin fisk                   108\n",
      "Sjøkreps                            96\n",
      "Kveite                              95\n",
      "Sølvtorsk                           70\n",
      "Smørflyndre                         38\n",
      "Blålange                            37\n",
      "Antarktisk tannfisk                 34\n",
      "Lomre                               28\n",
      "Skjellbrosme                        27\n",
      "Kongekrabbe                         22\n",
      "Akkar                               21\n",
      "Havmus                              18\n",
      "Annen torskefisk                    12\n",
      "Glassvar                            10\n",
      "Gapeflyndre                          9\n",
      "Laksesild                            9\n",
      "Skrubbe                              8\n",
      "Rognkjeks (felles)                   8\n",
      "Lanternfishes nei *                  8\n",
      "Hakes nei. *                         8\n",
      "Annen flyndre                        4\n",
      "Sandtunge                            3\n",
      "Nordlig lysprikkfisk                 3\n",
      "Sandflyndre                          3\n",
      "Makrellstørje                        2\n",
      "Various squids nei *                 2\n",
      "Blåhval                              1\n",
      "Annen laksefisk                      1\n",
      "Name: count, dtype: int64\n"
     ]
    }
   ],
   "source": [
    "#print(df.info())\n",
    "pd.set_option('display.max_rows', None)\n",
    "print(df['Hovedart FAO'].value_counts())"
   ]
  },
  {
   "cell_type": "code",
   "execution_count": 843,
   "metadata": {},
   "outputs": [
    {
     "name": "stdout",
     "output_type": "stream",
     "text": [
      "Art FAO\n",
      "Torsk                            56574\n",
      "Sei                              42557\n",
      "Hyse                             39120\n",
      "Lange                            17338\n",
      "Uer (vanlig)                     14153\n",
      "Dypvannsreke                     13678\n",
      "Brosme                            9167\n",
      "Lysing                            8839\n",
      "Breiflabb                         8543\n",
      "Blåkveite                         8046\n",
      "Flekksteinbit                     8037\n",
      "Snøkrabbe                         6070\n",
      "Sild                              6006\n",
      "Kveite                            5649\n",
      "Snabeluer                         5408\n",
      "Gråsteinbit                       5389\n",
      "Lyr                               4863\n",
      "Makrell                           3013\n",
      "Smørflyndre                       2869\n",
      "Kolmule                           2843\n",
      "Annen marin fisk                  2378\n",
      "Øyepål                            2210\n",
      "Rødspette                         2206\n",
      "Hvitting                          2175\n",
      "Annen skate og rokke              2136\n",
      "Blåsteinbit                       2129\n",
      "Skjellbrosme                      1401\n",
      "Lodde                             1188\n",
      "Hestmakrell                       1035\n",
      "Blålange                           991\n",
      "Strømsild                          949\n",
      "Skate, uspesifisert                900\n",
      "Havmus                             843\n",
      "Tobis og annen sil                 820\n",
      "Lomre                              771\n",
      "Sølvtorsk                          753\n",
      "Stortare                           683\n",
      "Steinbiter                         626\n",
      "Antarktisk krill                   552\n",
      "Sjøkreps                           536\n",
      "Taskekrabbe                        480\n",
      "Strømsild/Vassild                  421\n",
      "Glassvar                           420\n",
      "Annen flyndre                      416\n",
      "Gapeflyndre                        389\n",
      "Piggvar                            380\n",
      "Isgalt                             309\n",
      "Vågehval                           296\n",
      "Pigghå                             281\n",
      "Vassild                            280\n",
      "Knurr                              278\n",
      "Brisling                           268\n",
      "Sandflyndre                        252\n",
      "Akkar                              252\n",
      "Raudåte                            206\n",
      "Reke av  Palaemonidaefamilien      205\n",
      "Pink cusk-eel*                     148\n",
      "Skolest                            136\n",
      "Svarthå                            134\n",
      "Knurr uspes.                       123\n",
      "Uer uspes.                         120\n",
      "Reke av  Pandalusslekten           100\n",
      "Rognkjeks (felles)                  98\n",
      "Blåkjeft                            89\n",
      "Skater, upes.                       84\n",
      "Rødknurr                            81\n",
      "Sjøpiggsvin uspes.                  70\n",
      "Rødpølse                            62\n",
      "Hummer                              53\n",
      "Sypike                              48\n",
      "Gulringskate                        45\n",
      "Skrubbe                             45\n",
      "Laksesild                           44\n",
      "Slettvar                            43\n",
      "Common squids nei *                 35\n",
      "Antarktisk tannfisk                 34\n",
      "Piggskate                           31\n",
      "Hågjel                              27\n",
      "Kongekrabbe                         23\n",
      "Kortpigget hå                       18\n",
      "Håbrann                             17\n",
      "Sandskate                           16\n",
      "Southern hake*                      13\n",
      "Mora uspes.                         11\n",
      "Hakes nei. *                        11\n",
      "Nordlig lysprikkfisk                11\n",
      "Slimål                               9\n",
      "Inshore squids nei *                 8\n",
      "Lanternfishes nei *                  8\n",
      "Villsvinfisk                         7\n",
      "Forkbeard *                          5\n",
      "Makrellstørje                        5\n",
      "Islandshå                            4\n",
      "Annen sardin                         4\n",
      "Lusuer                               4\n",
      "Blekkspruter uspes.                  4\n",
      "Spisskate                            4\n",
      "Annen flatfisk                       4\n",
      "Dyphavsabbor                         3\n",
      "Svartskate                           3\n",
      "Nise                                 3\n",
      "Vanlig ulke                          2\n",
      "Sanktpetersfisk                      2\n",
      "Burton-skate                         2\n",
      "Ål                                   2\n",
      "Vanlig fløyfisk                      2\n",
      "Annen torskefisk                     2\n",
      "Various squids nei *                 2\n",
      "Rundskate                            2\n",
      "Havål                                2\n",
      "Blæretang                            1\n",
      "Ansjos                               1\n",
      "Svabergsjøpiggsvin                   1\n",
      "Sandtunge                            1\n",
      "Trollkrabbe                          1\n",
      "Isskate                              1\n",
      "Skjeggtorsk                          1\n",
      "Sagtang                              1\n",
      "Annen makrell                        1\n",
      "Blåhval                              1\n",
      "Annen laksefisk                      1\n",
      "Bukstripet pelamide                  1\n",
      "Name: count, dtype: int64\n"
     ]
    }
   ],
   "source": [
    "print(df['Art FAO'].value_counts())"
   ]
  },
  {
   "cell_type": "code",
   "execution_count": 844,
   "metadata": {},
   "outputs": [
    {
     "data": {
      "text/plain": [
       "Art - FDIR\n",
       "Torsk                  55749\n",
       "Sei                    41903\n",
       "Hyse                   38735\n",
       "Lange                  17040\n",
       "Uer (vanlig)           14108\n",
       "                       ...  \n",
       "Blåhval                    1\n",
       "Annen makrell              1\n",
       "Ansjos                     1\n",
       "Rød kråkebolle             1\n",
       "Bukstripet pelamide        1\n",
       "Name: count, Length: 117, dtype: int64"
      ]
     },
     "execution_count": 844,
     "metadata": {},
     "output_type": "execute_result"
    }
   ],
   "source": [
    "# Reset display options to default\n",
    "pd.reset_option('display.max_rows')\n",
    "\n",
    "x = df['Bruttotonnasje annen']\n",
    "df['Bruttotonnasje 1969'].fillna(x, inplace=True) # Slår sammen kolonnene\n",
    "df.drop(columns = ['Bruttotonnasje annen'], inplace=True) # Dropper Bruttotonnasje annen.\n",
    "df.dropna(inplace = True)\n",
    "\n",
    "df.drop_duplicates(inplace = True) # Dropper duplikater\n",
    "df['Art - FDIR'].value_counts()\n"
   ]
  },
  {
   "cell_type": "code",
   "execution_count": 845,
   "metadata": {},
   "outputs": [
    {
     "name": "stdout",
     "output_type": "stream",
     "text": [
      "<class 'pandas.core.frame.DataFrame'>\n",
      "RangeIndex: 91185 entries, 0 to 91184\n",
      "Data columns (total 17 columns):\n",
      " #   Column                Non-Null Count  Dtype  \n",
      "---  ------                --------------  -----  \n",
      " 0   Melding ID            91185 non-null  int64  \n",
      " 1   Starttidspunkt        91185 non-null  object \n",
      " 2   Startposisjon bredde  91185 non-null  float64\n",
      " 3   Startposisjon lengde  91185 non-null  float64\n",
      " 4   Startklokkeslett      91185 non-null  object \n",
      " 5   Havdybde start        91185 non-null  int64  \n",
      " 6   Stopposisjon bredde   91185 non-null  float64\n",
      " 7   Stopposisjon lengde   91185 non-null  float64\n",
      " 8   Havdybde stopp        91185 non-null  int64  \n",
      " 9   Trekkavstand          91185 non-null  float64\n",
      " 10  Redskap FDIR          91185 non-null  object \n",
      " 11  Hovedart FAO          91185 non-null  object \n",
      " 12  Art - FDIR            91185 non-null  object \n",
      " 13  Art - gruppe          91185 non-null  object \n",
      " 14  Rundvekt              91185 non-null  float64\n",
      " 15  Lengdegruppe (kode)   91185 non-null  float64\n",
      " 16  Bruttotonnasje 1969   91185 non-null  float64\n",
      "dtypes: float64(8), int64(3), object(6)\n",
      "memory usage: 11.8+ MB\n"
     ]
    }
   ],
   "source": [
    "def join_unique_values(series):\n",
    "    return ', '.join(series.dropna().astype(str).unique())\n",
    "\n",
    "# Adjusting the grouping to consider both Melding ID and an identifier for fishing activities, assuming 'Starttidspunkt' is that identifier.\n",
    "df_grouped = df.groupby(['Melding ID', 'Starttidspunkt'], as_index=False).agg({\n",
    "    'Startposisjon bredde': 'first',\n",
    "    'Startposisjon lengde': 'first',\n",
    "    'Startklokkeslett': 'first',\n",
    "    'Havdybde start': 'first',\n",
    "    'Stopposisjon bredde': 'last',\n",
    "    'Stopposisjon lengde': 'last',\n",
    "    'Havdybde stopp': 'last',\n",
    "    'Trekkavstand': 'first',  # Adjusted based on assumption that distance is consistent within an activity.\n",
    "    'Redskap FDIR': join_unique_values,\n",
    "    'Hovedart FAO': 'first',  # Assuming main species is consistent within an activity.\n",
    "    'Art - FDIR': join_unique_values,\n",
    "    'Art - gruppe': join_unique_values,\n",
    "    'Rundvekt': 'sum',  # Summing up the total weight.\n",
    "    'Lengdegruppe (kode)': 'first',  \n",
    "    'Bruttotonnasje 1969': 'first'\n",
    "})\n",
    "df_grouped.info()"
   ]
  },
  {
   "cell_type": "code",
   "execution_count": 846,
   "metadata": {},
   "outputs": [
    {
     "data": {
      "text/plain": [
       "Startklokkeslett - bins\n",
       "0     5585\n",
       "1     2855\n",
       "2     2873\n",
       "3     3832\n",
       "4     4260\n",
       "5     4734\n",
       "6     4718\n",
       "7     4285\n",
       "8     4016\n",
       "9     3894\n",
       "10    3942\n",
       "11    4212\n",
       "12    4315\n",
       "13    4052\n",
       "14    3693\n",
       "15    3531\n",
       "16    3491\n",
       "17    3677\n",
       "18    3421\n",
       "19    3007\n",
       "20    2976\n",
       "21    3085\n",
       "22    3443\n",
       "23    3288\n",
       "Name: count, dtype: int64"
      ]
     },
     "execution_count": 846,
     "metadata": {},
     "output_type": "execute_result"
    }
   ],
   "source": [
    "#Konverterer til datetime\n",
    "df_grouped['Startklokkeslett'] = pd.to_datetime(df_grouped['Startklokkeslett'], format='%H:%M')\n",
    "bins = list(range(0, 25))\n",
    "labels = list(range(24))\n",
    "df_grouped['Startklokkeslett - bins'] = pd.cut(df_grouped['Startklokkeslett'].dt.hour, bins=bins, labels=labels, right=False)\n",
    "df_grouped['Startklokkeslett - bins'].value_counts()\n",
    "df_grouped['Startklokkeslett - bins'].value_counts().sort_index()"
   ]
  },
  {
   "cell_type": "markdown",
   "metadata": {},
   "source": [
    "Kosinus time."
   ]
  },
  {
   "cell_type": "code",
   "execution_count": 847,
   "metadata": {},
   "outputs": [
    {
     "name": "stderr",
     "output_type": "stream",
     "text": [
      "/var/folders/87/czlwvtcd4j3cz6jlhc_45ld00000gn/T/ipykernel_30072/2006037163.py:8: UserWarning: Boolean Series key will be reindexed to match DataFrame index.\n",
      "  filtered_df = df[combined_condition]\n"
     ]
    },
    {
     "ename": "IndexingError",
     "evalue": "Unalignable boolean Series provided as indexer (index of the boolean Series and of the indexed object do not match).",
     "output_type": "error",
     "traceback": [
      "\u001b[0;31m---------------------------------------------------------------------------\u001b[0m",
      "\u001b[0;31mIndexingError\u001b[0m                             Traceback (most recent call last)",
      "Cell \u001b[0;32mIn[847], line 8\u001b[0m\n\u001b[1;32m      5\u001b[0m condition_fish_tools \u001b[38;5;241m=\u001b[39m df_grouped[\u001b[38;5;124m'\u001b[39m\u001b[38;5;124mRedskap FDIR\u001b[39m\u001b[38;5;124m'\u001b[39m]\u001b[38;5;241m.\u001b[39misin(fish_tools)\n\u001b[1;32m      7\u001b[0m combined_condition \u001b[38;5;241m=\u001b[39m condition_fish_tools \u001b[38;5;241m&\u001b[39m condition_fish_types \u001b[38;5;66;03m# & condition_areas \u001b[39;00m\n\u001b[0;32m----> 8\u001b[0m filtered_df \u001b[38;5;241m=\u001b[39m \u001b[43mdf\u001b[49m\u001b[43m[\u001b[49m\u001b[43mcombined_condition\u001b[49m\u001b[43m]\u001b[49m\n\u001b[1;32m      9\u001b[0m filtered_df\u001b[38;5;241m.\u001b[39minfo()\n",
      "File \u001b[0;32m/opt/homebrew/anaconda3/envs/info284/lib/python3.10/site-packages/pandas/core/frame.py:3884\u001b[0m, in \u001b[0;36mDataFrame.__getitem__\u001b[0;34m(self, key)\u001b[0m\n\u001b[1;32m   3882\u001b[0m \u001b[38;5;66;03m# Do we have a (boolean) 1d indexer?\u001b[39;00m\n\u001b[1;32m   3883\u001b[0m \u001b[38;5;28;01mif\u001b[39;00m com\u001b[38;5;241m.\u001b[39mis_bool_indexer(key):\n\u001b[0;32m-> 3884\u001b[0m     \u001b[38;5;28;01mreturn\u001b[39;00m \u001b[38;5;28;43mself\u001b[39;49m\u001b[38;5;241;43m.\u001b[39;49m\u001b[43m_getitem_bool_array\u001b[49m\u001b[43m(\u001b[49m\u001b[43mkey\u001b[49m\u001b[43m)\u001b[49m\n\u001b[1;32m   3886\u001b[0m \u001b[38;5;66;03m# We are left with two options: a single key, and a collection of keys,\u001b[39;00m\n\u001b[1;32m   3887\u001b[0m \u001b[38;5;66;03m# We interpret tuples as collections only for non-MultiIndex\u001b[39;00m\n\u001b[1;32m   3888\u001b[0m is_single_key \u001b[38;5;241m=\u001b[39m \u001b[38;5;28misinstance\u001b[39m(key, \u001b[38;5;28mtuple\u001b[39m) \u001b[38;5;129;01mor\u001b[39;00m \u001b[38;5;129;01mnot\u001b[39;00m is_list_like(key)\n",
      "File \u001b[0;32m/opt/homebrew/anaconda3/envs/info284/lib/python3.10/site-packages/pandas/core/frame.py:3940\u001b[0m, in \u001b[0;36mDataFrame._getitem_bool_array\u001b[0;34m(self, key)\u001b[0m\n\u001b[1;32m   3934\u001b[0m     \u001b[38;5;28;01mraise\u001b[39;00m \u001b[38;5;167;01mValueError\u001b[39;00m(\n\u001b[1;32m   3935\u001b[0m         \u001b[38;5;124mf\u001b[39m\u001b[38;5;124m\"\u001b[39m\u001b[38;5;124mItem wrong length \u001b[39m\u001b[38;5;132;01m{\u001b[39;00m\u001b[38;5;28mlen\u001b[39m(key)\u001b[38;5;132;01m}\u001b[39;00m\u001b[38;5;124m instead of \u001b[39m\u001b[38;5;132;01m{\u001b[39;00m\u001b[38;5;28mlen\u001b[39m(\u001b[38;5;28mself\u001b[39m\u001b[38;5;241m.\u001b[39mindex)\u001b[38;5;132;01m}\u001b[39;00m\u001b[38;5;124m.\u001b[39m\u001b[38;5;124m\"\u001b[39m\n\u001b[1;32m   3936\u001b[0m     )\n\u001b[1;32m   3938\u001b[0m \u001b[38;5;66;03m# check_bool_indexer will throw exception if Series key cannot\u001b[39;00m\n\u001b[1;32m   3939\u001b[0m \u001b[38;5;66;03m# be reindexed to match DataFrame rows\u001b[39;00m\n\u001b[0;32m-> 3940\u001b[0m key \u001b[38;5;241m=\u001b[39m \u001b[43mcheck_bool_indexer\u001b[49m\u001b[43m(\u001b[49m\u001b[38;5;28;43mself\u001b[39;49m\u001b[38;5;241;43m.\u001b[39;49m\u001b[43mindex\u001b[49m\u001b[43m,\u001b[49m\u001b[43m \u001b[49m\u001b[43mkey\u001b[49m\u001b[43m)\u001b[49m\n\u001b[1;32m   3942\u001b[0m \u001b[38;5;28;01mif\u001b[39;00m key\u001b[38;5;241m.\u001b[39mall():\n\u001b[1;32m   3943\u001b[0m     \u001b[38;5;28;01mreturn\u001b[39;00m \u001b[38;5;28mself\u001b[39m\u001b[38;5;241m.\u001b[39mcopy(deep\u001b[38;5;241m=\u001b[39m\u001b[38;5;28;01mNone\u001b[39;00m)\n",
      "File \u001b[0;32m/opt/homebrew/anaconda3/envs/info284/lib/python3.10/site-packages/pandas/core/indexing.py:2575\u001b[0m, in \u001b[0;36mcheck_bool_indexer\u001b[0;34m(index, key)\u001b[0m\n\u001b[1;32m   2573\u001b[0m indexer \u001b[38;5;241m=\u001b[39m result\u001b[38;5;241m.\u001b[39mindex\u001b[38;5;241m.\u001b[39mget_indexer_for(index)\n\u001b[1;32m   2574\u001b[0m \u001b[38;5;28;01mif\u001b[39;00m \u001b[38;5;241m-\u001b[39m\u001b[38;5;241m1\u001b[39m \u001b[38;5;129;01min\u001b[39;00m indexer:\n\u001b[0;32m-> 2575\u001b[0m     \u001b[38;5;28;01mraise\u001b[39;00m IndexingError(\n\u001b[1;32m   2576\u001b[0m         \u001b[38;5;124m\"\u001b[39m\u001b[38;5;124mUnalignable boolean Series provided as \u001b[39m\u001b[38;5;124m\"\u001b[39m\n\u001b[1;32m   2577\u001b[0m         \u001b[38;5;124m\"\u001b[39m\u001b[38;5;124mindexer (index of the boolean Series and of \u001b[39m\u001b[38;5;124m\"\u001b[39m\n\u001b[1;32m   2578\u001b[0m         \u001b[38;5;124m\"\u001b[39m\u001b[38;5;124mthe indexed object do not match).\u001b[39m\u001b[38;5;124m\"\u001b[39m\n\u001b[1;32m   2579\u001b[0m     )\n\u001b[1;32m   2581\u001b[0m result \u001b[38;5;241m=\u001b[39m result\u001b[38;5;241m.\u001b[39mtake(indexer)\n\u001b[1;32m   2583\u001b[0m \u001b[38;5;66;03m# fall through for boolean\u001b[39;00m\n",
      "\u001b[0;31mIndexingError\u001b[0m: Unalignable boolean Series provided as indexer (index of the boolean Series and of the indexed object do not match)."
     ]
    }
   ],
   "source": [
    "fish_types = ['Hyse', 'Torsk', 'Sei', 'Lange']\n",
    "fish_tools = ['Bunntrål', 'Dobbeltrål', 'Snurrevad', 'Udefinert trål']\n",
    "\n",
    "condition_fish_types = df_grouped['Hovedart FAO'].isin(fish_types)\n",
    "condition_fish_tools = df_grouped['Redskap FDIR'].isin(fish_tools)\n",
    "\n",
    "combined_condition = condition_fish_tools & condition_fish_types # & condition_areas \n",
    "filtered_df = df[combined_condition]\n",
    "filtered_df.info()"
   ]
  },
  {
   "cell_type": "code",
   "execution_count": null,
   "metadata": {},
   "outputs": [
    {
     "ename": "KeyError",
     "evalue": "'Startklokkeslett - bins'",
     "output_type": "error",
     "traceback": [
      "\u001b[0;31m---------------------------------------------------------------------------\u001b[0m",
      "\u001b[0;31mKeyError\u001b[0m                                  Traceback (most recent call last)",
      "File \u001b[0;32m/opt/homebrew/anaconda3/envs/info284/lib/python3.10/site-packages/pandas/core/indexes/base.py:3791\u001b[0m, in \u001b[0;36mIndex.get_loc\u001b[0;34m(self, key)\u001b[0m\n\u001b[1;32m   3790\u001b[0m \u001b[38;5;28;01mtry\u001b[39;00m:\n\u001b[0;32m-> 3791\u001b[0m     \u001b[38;5;28;01mreturn\u001b[39;00m \u001b[38;5;28;43mself\u001b[39;49m\u001b[38;5;241;43m.\u001b[39;49m\u001b[43m_engine\u001b[49m\u001b[38;5;241;43m.\u001b[39;49m\u001b[43mget_loc\u001b[49m\u001b[43m(\u001b[49m\u001b[43mcasted_key\u001b[49m\u001b[43m)\u001b[49m\n\u001b[1;32m   3792\u001b[0m \u001b[38;5;28;01mexcept\u001b[39;00m \u001b[38;5;167;01mKeyError\u001b[39;00m \u001b[38;5;28;01mas\u001b[39;00m err:\n",
      "File \u001b[0;32mindex.pyx:152\u001b[0m, in \u001b[0;36mpandas._libs.index.IndexEngine.get_loc\u001b[0;34m()\u001b[0m\n",
      "File \u001b[0;32mindex.pyx:181\u001b[0m, in \u001b[0;36mpandas._libs.index.IndexEngine.get_loc\u001b[0;34m()\u001b[0m\n",
      "File \u001b[0;32mpandas/_libs/hashtable_class_helper.pxi:7080\u001b[0m, in \u001b[0;36mpandas._libs.hashtable.PyObjectHashTable.get_item\u001b[0;34m()\u001b[0m\n",
      "File \u001b[0;32mpandas/_libs/hashtable_class_helper.pxi:7088\u001b[0m, in \u001b[0;36mpandas._libs.hashtable.PyObjectHashTable.get_item\u001b[0;34m()\u001b[0m\n",
      "\u001b[0;31mKeyError\u001b[0m: 'Startklokkeslett - bins'",
      "\nThe above exception was the direct cause of the following exception:\n",
      "\u001b[0;31mKeyError\u001b[0m                                  Traceback (most recent call last)",
      "Cell \u001b[0;32mIn[840], line 1\u001b[0m\n\u001b[0;32m----> 1\u001b[0m \u001b[43mfiltered_df\u001b[49m\u001b[43m[\u001b[49m\u001b[38;5;124;43m'\u001b[39;49m\u001b[38;5;124;43mStartklokkeslett - bins\u001b[39;49m\u001b[38;5;124;43m'\u001b[39;49m\u001b[43m]\u001b[49m\u001b[38;5;241m.\u001b[39mvalue_counts()\u001b[38;5;241m.\u001b[39msort_index()\n",
      "File \u001b[0;32m/opt/homebrew/anaconda3/envs/info284/lib/python3.10/site-packages/pandas/core/frame.py:3893\u001b[0m, in \u001b[0;36mDataFrame.__getitem__\u001b[0;34m(self, key)\u001b[0m\n\u001b[1;32m   3891\u001b[0m \u001b[38;5;28;01mif\u001b[39;00m \u001b[38;5;28mself\u001b[39m\u001b[38;5;241m.\u001b[39mcolumns\u001b[38;5;241m.\u001b[39mnlevels \u001b[38;5;241m>\u001b[39m \u001b[38;5;241m1\u001b[39m:\n\u001b[1;32m   3892\u001b[0m     \u001b[38;5;28;01mreturn\u001b[39;00m \u001b[38;5;28mself\u001b[39m\u001b[38;5;241m.\u001b[39m_getitem_multilevel(key)\n\u001b[0;32m-> 3893\u001b[0m indexer \u001b[38;5;241m=\u001b[39m \u001b[38;5;28;43mself\u001b[39;49m\u001b[38;5;241;43m.\u001b[39;49m\u001b[43mcolumns\u001b[49m\u001b[38;5;241;43m.\u001b[39;49m\u001b[43mget_loc\u001b[49m\u001b[43m(\u001b[49m\u001b[43mkey\u001b[49m\u001b[43m)\u001b[49m\n\u001b[1;32m   3894\u001b[0m \u001b[38;5;28;01mif\u001b[39;00m is_integer(indexer):\n\u001b[1;32m   3895\u001b[0m     indexer \u001b[38;5;241m=\u001b[39m [indexer]\n",
      "File \u001b[0;32m/opt/homebrew/anaconda3/envs/info284/lib/python3.10/site-packages/pandas/core/indexes/base.py:3798\u001b[0m, in \u001b[0;36mIndex.get_loc\u001b[0;34m(self, key)\u001b[0m\n\u001b[1;32m   3793\u001b[0m     \u001b[38;5;28;01mif\u001b[39;00m \u001b[38;5;28misinstance\u001b[39m(casted_key, \u001b[38;5;28mslice\u001b[39m) \u001b[38;5;129;01mor\u001b[39;00m (\n\u001b[1;32m   3794\u001b[0m         \u001b[38;5;28misinstance\u001b[39m(casted_key, abc\u001b[38;5;241m.\u001b[39mIterable)\n\u001b[1;32m   3795\u001b[0m         \u001b[38;5;129;01mand\u001b[39;00m \u001b[38;5;28many\u001b[39m(\u001b[38;5;28misinstance\u001b[39m(x, \u001b[38;5;28mslice\u001b[39m) \u001b[38;5;28;01mfor\u001b[39;00m x \u001b[38;5;129;01min\u001b[39;00m casted_key)\n\u001b[1;32m   3796\u001b[0m     ):\n\u001b[1;32m   3797\u001b[0m         \u001b[38;5;28;01mraise\u001b[39;00m InvalidIndexError(key)\n\u001b[0;32m-> 3798\u001b[0m     \u001b[38;5;28;01mraise\u001b[39;00m \u001b[38;5;167;01mKeyError\u001b[39;00m(key) \u001b[38;5;28;01mfrom\u001b[39;00m \u001b[38;5;21;01merr\u001b[39;00m\n\u001b[1;32m   3799\u001b[0m \u001b[38;5;28;01mexcept\u001b[39;00m \u001b[38;5;167;01mTypeError\u001b[39;00m:\n\u001b[1;32m   3800\u001b[0m     \u001b[38;5;66;03m# If we have a listlike key, _check_indexing_error will raise\u001b[39;00m\n\u001b[1;32m   3801\u001b[0m     \u001b[38;5;66;03m#  InvalidIndexError. Otherwise we fall through and re-raise\u001b[39;00m\n\u001b[1;32m   3802\u001b[0m     \u001b[38;5;66;03m#  the TypeError.\u001b[39;00m\n\u001b[1;32m   3803\u001b[0m     \u001b[38;5;28mself\u001b[39m\u001b[38;5;241m.\u001b[39m_check_indexing_error(key)\n",
      "\u001b[0;31mKeyError\u001b[0m: 'Startklokkeslett - bins'"
     ]
    }
   ],
   "source": [
    "filtered_df['Startklokkeslett - bins'].value_counts().sort_index()"
   ]
  },
  {
   "cell_type": "code",
   "execution_count": null,
   "metadata": {},
   "outputs": [
    {
     "data": {
      "text/plain": [
       "1         18846\n",
       "2         18846\n",
       "3         18846\n",
       "4         18846\n",
       "5         18846\n",
       "          ...  \n",
       "305429    18846\n",
       "305430    18846\n",
       "305431    18846\n",
       "305432    18846\n",
       "305433    18846\n",
       "Name: Hovedart FAO, Length: 137240, dtype: int64"
      ]
     },
     "execution_count": 830,
     "metadata": {},
     "output_type": "execute_result"
    }
   ],
   "source": [
    "# Calculate the counts of each unique value in 'Hovedart - FDIR (kode)'\n",
    "counts = filtered_df['Hovedart FAO'].map(filtered_df['Hovedart FAO'].value_counts())\n",
    "\n",
    "counts"
   ]
  },
  {
   "cell_type": "code",
   "execution_count": null,
   "metadata": {},
   "outputs": [
    {
     "data": {
      "text/plain": [
       "Hovedart FAO\n",
       "Torsk    61354\n",
       "Sei      55862\n",
       "Hyse     18846\n",
       "Lange     1178\n",
       "Name: count, dtype: int64"
      ]
     },
     "execution_count": 831,
     "metadata": {},
     "output_type": "execute_result"
    }
   ],
   "source": [
    "filtered_df['Hovedart FAO'].value_counts()"
   ]
  }
 ],
 "metadata": {
  "kernelspec": {
   "display_name": "info284",
   "language": "python",
   "name": "python3"
  },
  "language_info": {
   "codemirror_mode": {
    "name": "ipython",
    "version": 3
   },
   "file_extension": ".py",
   "mimetype": "text/x-python",
   "name": "python",
   "nbconvert_exporter": "python",
   "pygments_lexer": "ipython3",
   "version": "3.10.13"
  }
 },
 "nbformat": 4,
 "nbformat_minor": 2
}
